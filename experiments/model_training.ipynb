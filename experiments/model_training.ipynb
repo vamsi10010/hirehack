{
 "cells": [
  {
   "cell_type": "code",
   "execution_count": 339,
   "metadata": {},
   "outputs": [
    {
     "data": {
      "text/plain": [
       "'2.1.2+cu121'"
      ]
     },
     "execution_count": 339,
     "metadata": {},
     "output_type": "execute_result"
    }
   ],
   "source": [
    "from audio.analyze_audio import analyze_audio_file\n",
    "from video.analyze_video import fer_video, fer_image, extract_frames\n",
    "from lexical.lexical_analysis import calc_score\n",
    "\n",
    "import torch\n",
    "import torch.nn as nn\n",
    "import matplotlib.pyplot as plt\n",
    "import pandas as pd\n",
    "\n",
    "from sklearn.preprocessing import MinMaxScaler\n",
    "\n",
    "import os\n",
    "\n",
    "torch.__version__"
   ]
  },
  {
   "cell_type": "code",
   "execution_count": 340,
   "metadata": {},
   "outputs": [
    {
     "data": {
      "text/plain": [
       "device(type='cuda')"
      ]
     },
     "execution_count": 340,
     "metadata": {},
     "output_type": "execute_result"
    }
   ],
   "source": [
    "device = torch.device(\"cuda\" if torch.cuda.is_available() else \"cpu\")\n",
    "device"
   ]
  },
  {
   "cell_type": "code",
   "execution_count": 341,
   "metadata": {},
   "outputs": [
    {
     "data": {
      "text/plain": [
       "['neg', 'neu', 'pos', 'compound']"
      ]
     },
     "execution_count": 341,
     "metadata": {},
     "output_type": "execute_result"
    }
   ],
   "source": [
    "lexlabels = list(calc_score(\"../test/P1/transcript.txt\").keys())\n",
    "lexlabels"
   ]
  },
  {
   "cell_type": "code",
   "execution_count": 342,
   "metadata": {},
   "outputs": [
    {
     "data": {
      "text/plain": [
       "['number_of_syllables',\n",
       " 'number_of_pauses',\n",
       " 'rate_of_speech',\n",
       " 'articulation_rate',\n",
       " 'speaking_duration',\n",
       " 'original_duration',\n",
       " 'balance',\n",
       " 'f0_mean',\n",
       " 'f0_std',\n",
       " 'f0_median',\n",
       " 'f0_min',\n",
       " 'f0_max',\n",
       " 'f0_quantile25',\n",
       " 'f0_quan75']"
      ]
     },
     "execution_count": 342,
     "metadata": {},
     "output_type": "execute_result"
    }
   ],
   "source": [
    "audlabels = list(analyze_audio_file(\"../test/P1/P1_0.wav\").keys())\n",
    "audlabels"
   ]
  },
  {
   "cell_type": "code",
   "execution_count": 343,
   "metadata": {},
   "outputs": [
    {
     "name": "stderr",
     "output_type": "stream",
     "text": [
      "2024-01-21 04:43:56.474942: I external/local_xla/xla/stream_executor/cuda/cuda_executor.cc:901] successful NUMA node read from SysFS had negative value (-1), but there must be at least one NUMA node, so returning NUMA node zero. See more at https://github.com/torvalds/linux/blob/v6.0/Documentation/ABI/testing/sysfs-bus-pci#L344-L355\n",
      "2024-01-21 04:43:56.481382: I external/local_xla/xla/stream_executor/cuda/cuda_executor.cc:901] successful NUMA node read from SysFS had negative value (-1), but there must be at least one NUMA node, so returning NUMA node zero. See more at https://github.com/torvalds/linux/blob/v6.0/Documentation/ABI/testing/sysfs-bus-pci#L344-L355\n",
      "2024-01-21 04:43:56.481541: I external/local_xla/xla/stream_executor/cuda/cuda_executor.cc:901] successful NUMA node read from SysFS had negative value (-1), but there must be at least one NUMA node, so returning NUMA node zero. See more at https://github.com/torvalds/linux/blob/v6.0/Documentation/ABI/testing/sysfs-bus-pci#L344-L355\n",
      "2024-01-21 04:43:56.482303: I external/local_xla/xla/stream_executor/cuda/cuda_executor.cc:901] successful NUMA node read from SysFS had negative value (-1), but there must be at least one NUMA node, so returning NUMA node zero. See more at https://github.com/torvalds/linux/blob/v6.0/Documentation/ABI/testing/sysfs-bus-pci#L344-L355\n",
      "2024-01-21 04:43:56.482433: I external/local_xla/xla/stream_executor/cuda/cuda_executor.cc:901] successful NUMA node read from SysFS had negative value (-1), but there must be at least one NUMA node, so returning NUMA node zero. See more at https://github.com/torvalds/linux/blob/v6.0/Documentation/ABI/testing/sysfs-bus-pci#L344-L355\n",
      "2024-01-21 04:43:56.482552: I external/local_xla/xla/stream_executor/cuda/cuda_executor.cc:901] successful NUMA node read from SysFS had negative value (-1), but there must be at least one NUMA node, so returning NUMA node zero. See more at https://github.com/torvalds/linux/blob/v6.0/Documentation/ABI/testing/sysfs-bus-pci#L344-L355\n",
      "2024-01-21 04:43:56.482790: I external/local_xla/xla/stream_executor/cuda/cuda_executor.cc:901] successful NUMA node read from SysFS had negative value (-1), but there must be at least one NUMA node, so returning NUMA node zero. See more at https://github.com/torvalds/linux/blob/v6.0/Documentation/ABI/testing/sysfs-bus-pci#L344-L355\n",
      "2024-01-21 04:43:56.482915: I external/local_xla/xla/stream_executor/cuda/cuda_executor.cc:901] successful NUMA node read from SysFS had negative value (-1), but there must be at least one NUMA node, so returning NUMA node zero. See more at https://github.com/torvalds/linux/blob/v6.0/Documentation/ABI/testing/sysfs-bus-pci#L344-L355\n",
      "2024-01-21 04:43:56.483040: I external/local_xla/xla/stream_executor/cuda/cuda_executor.cc:901] successful NUMA node read from SysFS had negative value (-1), but there must be at least one NUMA node, so returning NUMA node zero. See more at https://github.com/torvalds/linux/blob/v6.0/Documentation/ABI/testing/sysfs-bus-pci#L344-L355\n",
      "2024-01-21 04:43:56.483122: I tensorflow/core/common_runtime/gpu/gpu_device.cc:1929] Created device /job:localhost/replica:0/task:0/device:GPU:0 with 2206 MB memory:  -> device: 0, name: NVIDIA GeForce RTX 3050 Ti Laptop GPU, pci bus id: 0000:01:00.0, compute capability: 8.6\n",
      "2024-01-21 04:43:56.865003: I external/local_xla/xla/stream_executor/cuda/cuda_dnn.cc:454] Loaded cuDNN version 8902\n",
      "2024-01-21 04:43:57.011388: I external/local_tsl/tsl/platform/default/subprocess.cc:304] Start cannot spawn child process: No such file or directory\n",
      "2024-01-21 04:43:57.275233: I external/local_tsl/tsl/platform/default/subprocess.cc:304] Start cannot spawn child process: No such file or directory\n"
     ]
    }
   ],
   "source": [
    "vidlabels = list(fer_video(\"../test/P1/P1_0.avi\").keys())"
   ]
  },
  {
   "cell_type": "code",
   "execution_count": 344,
   "metadata": {},
   "outputs": [
    {
     "data": {
      "text/html": [
       "<div>\n",
       "<style scoped>\n",
       "    .dataframe tbody tr th:only-of-type {\n",
       "        vertical-align: middle;\n",
       "    }\n",
       "\n",
       "    .dataframe tbody tr th {\n",
       "        vertical-align: top;\n",
       "    }\n",
       "\n",
       "    .dataframe thead th {\n",
       "        text-align: right;\n",
       "    }\n",
       "</style>\n",
       "<table border=\"1\" class=\"dataframe\">\n",
       "  <thead>\n",
       "    <tr style=\"text-align: right;\">\n",
       "      <th></th>\n",
       "      <th>Participant</th>\n",
       "      <th>Worker</th>\n",
       "      <th>Overall</th>\n",
       "      <th>RecommendHiring</th>\n",
       "      <th>Colleague</th>\n",
       "      <th>Engaged</th>\n",
       "      <th>Excited</th>\n",
       "      <th>EyeContact</th>\n",
       "      <th>Smiled</th>\n",
       "      <th>SpeakingRate</th>\n",
       "      <th>...</th>\n",
       "      <th>Friendly</th>\n",
       "      <th>Paused</th>\n",
       "      <th>EngagingTone</th>\n",
       "      <th>StructuredAnswers</th>\n",
       "      <th>Calm</th>\n",
       "      <th>NotStressed</th>\n",
       "      <th>Focused</th>\n",
       "      <th>Authentic</th>\n",
       "      <th>NotAwkward</th>\n",
       "      <th>Total</th>\n",
       "    </tr>\n",
       "  </thead>\n",
       "  <tbody>\n",
       "    <tr>\n",
       "      <th>0</th>\n",
       "      <td>p1</td>\n",
       "      <td>A1ITBXITLY2952</td>\n",
       "      <td>5.000000</td>\n",
       "      <td>5.000000</td>\n",
       "      <td>6.000000</td>\n",
       "      <td>6.000000</td>\n",
       "      <td>5.000000</td>\n",
       "      <td>5.000000</td>\n",
       "      <td>4.000000</td>\n",
       "      <td>4.000000</td>\n",
       "      <td>...</td>\n",
       "      <td>6.000000</td>\n",
       "      <td>6.000000</td>\n",
       "      <td>5.000000</td>\n",
       "      <td>5.000000</td>\n",
       "      <td>6.000000</td>\n",
       "      <td>6.000000</td>\n",
       "      <td>6.000000</td>\n",
       "      <td>5.000000</td>\n",
       "      <td>6.000000</td>\n",
       "      <td>93.000000</td>\n",
       "    </tr>\n",
       "    <tr>\n",
       "      <th>1</th>\n",
       "      <td>p1</td>\n",
       "      <td>A1OLRUT93TXWEP</td>\n",
       "      <td>6.000000</td>\n",
       "      <td>6.000000</td>\n",
       "      <td>7.000000</td>\n",
       "      <td>5.000000</td>\n",
       "      <td>4.000000</td>\n",
       "      <td>6.000000</td>\n",
       "      <td>5.000000</td>\n",
       "      <td>5.000000</td>\n",
       "      <td>...</td>\n",
       "      <td>5.000000</td>\n",
       "      <td>7.000000</td>\n",
       "      <td>6.000000</td>\n",
       "      <td>5.000000</td>\n",
       "      <td>6.000000</td>\n",
       "      <td>6.000000</td>\n",
       "      <td>6.000000</td>\n",
       "      <td>6.000000</td>\n",
       "      <td>6.000000</td>\n",
       "      <td>99.000000</td>\n",
       "    </tr>\n",
       "    <tr>\n",
       "      <th>2</th>\n",
       "      <td>p1</td>\n",
       "      <td>A1ZQ7A1CUV6RD8</td>\n",
       "      <td>6.000000</td>\n",
       "      <td>6.000000</td>\n",
       "      <td>3.000000</td>\n",
       "      <td>7.000000</td>\n",
       "      <td>6.000000</td>\n",
       "      <td>7.000000</td>\n",
       "      <td>4.000000</td>\n",
       "      <td>3.500000</td>\n",
       "      <td>...</td>\n",
       "      <td>4.000000</td>\n",
       "      <td>6.000000</td>\n",
       "      <td>6.000000</td>\n",
       "      <td>3.000000</td>\n",
       "      <td>7.000000</td>\n",
       "      <td>7.000000</td>\n",
       "      <td>6.000000</td>\n",
       "      <td>7.000000</td>\n",
       "      <td>6.000000</td>\n",
       "      <td>97.500000</td>\n",
       "    </tr>\n",
       "    <tr>\n",
       "      <th>3</th>\n",
       "      <td>p1</td>\n",
       "      <td>A2F7D8EOTB663</td>\n",
       "      <td>6.000000</td>\n",
       "      <td>5.000000</td>\n",
       "      <td>6.000000</td>\n",
       "      <td>7.000000</td>\n",
       "      <td>5.000000</td>\n",
       "      <td>7.000000</td>\n",
       "      <td>4.000000</td>\n",
       "      <td>5.000000</td>\n",
       "      <td>...</td>\n",
       "      <td>5.000000</td>\n",
       "      <td>7.000000</td>\n",
       "      <td>5.000000</td>\n",
       "      <td>5.000000</td>\n",
       "      <td>7.000000</td>\n",
       "      <td>7.000000</td>\n",
       "      <td>7.000000</td>\n",
       "      <td>6.000000</td>\n",
       "      <td>5.000000</td>\n",
       "      <td>105.000000</td>\n",
       "    </tr>\n",
       "    <tr>\n",
       "      <th>4</th>\n",
       "      <td>p1</td>\n",
       "      <td>A323WW03VM8089</td>\n",
       "      <td>3.000000</td>\n",
       "      <td>3.000000</td>\n",
       "      <td>4.000000</td>\n",
       "      <td>4.000000</td>\n",
       "      <td>4.000000</td>\n",
       "      <td>4.000000</td>\n",
       "      <td>3.000000</td>\n",
       "      <td>5.250000</td>\n",
       "      <td>...</td>\n",
       "      <td>5.000000</td>\n",
       "      <td>4.000000</td>\n",
       "      <td>4.000000</td>\n",
       "      <td>3.000000</td>\n",
       "      <td>4.000000</td>\n",
       "      <td>4.000000</td>\n",
       "      <td>5.000000</td>\n",
       "      <td>5.000000</td>\n",
       "      <td>4.000000</td>\n",
       "      <td>71.250000</td>\n",
       "    </tr>\n",
       "    <tr>\n",
       "      <th>...</th>\n",
       "      <td>...</td>\n",
       "      <td>...</td>\n",
       "      <td>...</td>\n",
       "      <td>...</td>\n",
       "      <td>...</td>\n",
       "      <td>...</td>\n",
       "      <td>...</td>\n",
       "      <td>...</td>\n",
       "      <td>...</td>\n",
       "      <td>...</td>\n",
       "      <td>...</td>\n",
       "      <td>...</td>\n",
       "      <td>...</td>\n",
       "      <td>...</td>\n",
       "      <td>...</td>\n",
       "      <td>...</td>\n",
       "      <td>...</td>\n",
       "      <td>...</td>\n",
       "      <td>...</td>\n",
       "      <td>...</td>\n",
       "      <td>...</td>\n",
       "    </tr>\n",
       "    <tr>\n",
       "      <th>1373</th>\n",
       "      <td>pp89</td>\n",
       "      <td>A323WW03VM8089</td>\n",
       "      <td>5.000000</td>\n",
       "      <td>6.000000</td>\n",
       "      <td>6.000000</td>\n",
       "      <td>5.000000</td>\n",
       "      <td>6.000000</td>\n",
       "      <td>4.000000</td>\n",
       "      <td>5.000000</td>\n",
       "      <td>5.250000</td>\n",
       "      <td>...</td>\n",
       "      <td>6.000000</td>\n",
       "      <td>4.000000</td>\n",
       "      <td>6.000000</td>\n",
       "      <td>3.000000</td>\n",
       "      <td>5.000000</td>\n",
       "      <td>4.000000</td>\n",
       "      <td>5.000000</td>\n",
       "      <td>7.000000</td>\n",
       "      <td>4.000000</td>\n",
       "      <td>89.250000</td>\n",
       "    </tr>\n",
       "    <tr>\n",
       "      <th>1374</th>\n",
       "      <td>pp89</td>\n",
       "      <td>ABM77ZQWCHPNX</td>\n",
       "      <td>5.000000</td>\n",
       "      <td>5.000000</td>\n",
       "      <td>5.000000</td>\n",
       "      <td>3.000000</td>\n",
       "      <td>4.000000</td>\n",
       "      <td>5.000000</td>\n",
       "      <td>6.000000</td>\n",
       "      <td>7.000000</td>\n",
       "      <td>...</td>\n",
       "      <td>6.000000</td>\n",
       "      <td>6.000000</td>\n",
       "      <td>6.000000</td>\n",
       "      <td>5.000000</td>\n",
       "      <td>7.000000</td>\n",
       "      <td>7.000000</td>\n",
       "      <td>5.000000</td>\n",
       "      <td>6.000000</td>\n",
       "      <td>7.000000</td>\n",
       "      <td>98.000000</td>\n",
       "    </tr>\n",
       "    <tr>\n",
       "      <th>1375</th>\n",
       "      <td>pp89</td>\n",
       "      <td>ANUXUJE8QRE0C</td>\n",
       "      <td>5.000000</td>\n",
       "      <td>5.000000</td>\n",
       "      <td>6.000000</td>\n",
       "      <td>7.000000</td>\n",
       "      <td>6.000000</td>\n",
       "      <td>2.000000</td>\n",
       "      <td>7.000000</td>\n",
       "      <td>5.250000</td>\n",
       "      <td>...</td>\n",
       "      <td>7.000000</td>\n",
       "      <td>6.000000</td>\n",
       "      <td>5.000000</td>\n",
       "      <td>6.000000</td>\n",
       "      <td>6.000000</td>\n",
       "      <td>6.000000</td>\n",
       "      <td>5.000000</td>\n",
       "      <td>7.000000</td>\n",
       "      <td>7.000000</td>\n",
       "      <td>102.250000</td>\n",
       "    </tr>\n",
       "    <tr>\n",
       "      <th>1376</th>\n",
       "      <td>pp89</td>\n",
       "      <td>ARX0S1CIDJLOX</td>\n",
       "      <td>3.000000</td>\n",
       "      <td>2.000000</td>\n",
       "      <td>3.000000</td>\n",
       "      <td>3.000000</td>\n",
       "      <td>3.000000</td>\n",
       "      <td>2.000000</td>\n",
       "      <td>1.000000</td>\n",
       "      <td>3.000000</td>\n",
       "      <td>...</td>\n",
       "      <td>6.000000</td>\n",
       "      <td>6.000000</td>\n",
       "      <td>3.000000</td>\n",
       "      <td>1.000000</td>\n",
       "      <td>6.000000</td>\n",
       "      <td>6.000000</td>\n",
       "      <td>2.000000</td>\n",
       "      <td>6.000000</td>\n",
       "      <td>5.000000</td>\n",
       "      <td>62.000000</td>\n",
       "    </tr>\n",
       "    <tr>\n",
       "      <th>1377</th>\n",
       "      <td>pp89</td>\n",
       "      <td>AGGR</td>\n",
       "      <td>4.960084</td>\n",
       "      <td>4.370067</td>\n",
       "      <td>5.143083</td>\n",
       "      <td>5.138736</td>\n",
       "      <td>4.407999</td>\n",
       "      <td>3.922369</td>\n",
       "      <td>5.265014</td>\n",
       "      <td>4.599027</td>\n",
       "      <td>...</td>\n",
       "      <td>5.667336</td>\n",
       "      <td>5.904252</td>\n",
       "      <td>4.906939</td>\n",
       "      <td>4.258525</td>\n",
       "      <td>5.999464</td>\n",
       "      <td>5.698104</td>\n",
       "      <td>5.078843</td>\n",
       "      <td>6.177226</td>\n",
       "      <td>5.478425</td>\n",
       "      <td>90.303795</td>\n",
       "    </tr>\n",
       "  </tbody>\n",
       "</table>\n",
       "<p>1378 rows × 21 columns</p>\n",
       "</div>"
      ],
      "text/plain": [
       "     Participant          Worker   Overall  RecommendHiring  Colleague  \\\n",
       "0             p1  A1ITBXITLY2952  5.000000         5.000000   6.000000   \n",
       "1             p1  A1OLRUT93TXWEP  6.000000         6.000000   7.000000   \n",
       "2             p1  A1ZQ7A1CUV6RD8  6.000000         6.000000   3.000000   \n",
       "3             p1   A2F7D8EOTB663  6.000000         5.000000   6.000000   \n",
       "4             p1  A323WW03VM8089  3.000000         3.000000   4.000000   \n",
       "...          ...             ...       ...              ...        ...   \n",
       "1373        pp89  A323WW03VM8089  5.000000         6.000000   6.000000   \n",
       "1374        pp89   ABM77ZQWCHPNX  5.000000         5.000000   5.000000   \n",
       "1375        pp89   ANUXUJE8QRE0C  5.000000         5.000000   6.000000   \n",
       "1376        pp89   ARX0S1CIDJLOX  3.000000         2.000000   3.000000   \n",
       "1377        pp89            AGGR  4.960084         4.370067   5.143083   \n",
       "\n",
       "       Engaged   Excited  EyeContact    Smiled  SpeakingRate  ...  Friendly  \\\n",
       "0     6.000000  5.000000    5.000000  4.000000      4.000000  ...  6.000000   \n",
       "1     5.000000  4.000000    6.000000  5.000000      5.000000  ...  5.000000   \n",
       "2     7.000000  6.000000    7.000000  4.000000      3.500000  ...  4.000000   \n",
       "3     7.000000  5.000000    7.000000  4.000000      5.000000  ...  5.000000   \n",
       "4     4.000000  4.000000    4.000000  3.000000      5.250000  ...  5.000000   \n",
       "...        ...       ...         ...       ...           ...  ...       ...   \n",
       "1373  5.000000  6.000000    4.000000  5.000000      5.250000  ...  6.000000   \n",
       "1374  3.000000  4.000000    5.000000  6.000000      7.000000  ...  6.000000   \n",
       "1375  7.000000  6.000000    2.000000  7.000000      5.250000  ...  7.000000   \n",
       "1376  3.000000  3.000000    2.000000  1.000000      3.000000  ...  6.000000   \n",
       "1377  5.138736  4.407999    3.922369  5.265014      4.599027  ...  5.667336   \n",
       "\n",
       "        Paused  EngagingTone  StructuredAnswers      Calm  NotStressed  \\\n",
       "0     6.000000      5.000000           5.000000  6.000000     6.000000   \n",
       "1     7.000000      6.000000           5.000000  6.000000     6.000000   \n",
       "2     6.000000      6.000000           3.000000  7.000000     7.000000   \n",
       "3     7.000000      5.000000           5.000000  7.000000     7.000000   \n",
       "4     4.000000      4.000000           3.000000  4.000000     4.000000   \n",
       "...        ...           ...                ...       ...          ...   \n",
       "1373  4.000000      6.000000           3.000000  5.000000     4.000000   \n",
       "1374  6.000000      6.000000           5.000000  7.000000     7.000000   \n",
       "1375  6.000000      5.000000           6.000000  6.000000     6.000000   \n",
       "1376  6.000000      3.000000           1.000000  6.000000     6.000000   \n",
       "1377  5.904252      4.906939           4.258525  5.999464     5.698104   \n",
       "\n",
       "       Focused  Authentic  NotAwkward       Total  \n",
       "0     6.000000   5.000000    6.000000   93.000000  \n",
       "1     6.000000   6.000000    6.000000   99.000000  \n",
       "2     6.000000   7.000000    6.000000   97.500000  \n",
       "3     7.000000   6.000000    5.000000  105.000000  \n",
       "4     5.000000   5.000000    4.000000   71.250000  \n",
       "...        ...        ...         ...         ...  \n",
       "1373  5.000000   7.000000    4.000000   89.250000  \n",
       "1374  5.000000   6.000000    7.000000   98.000000  \n",
       "1375  5.000000   7.000000    7.000000  102.250000  \n",
       "1376  2.000000   6.000000    5.000000   62.000000  \n",
       "1377  5.078843   6.177226    5.478425   90.303795  \n",
       "\n",
       "[1378 rows x 21 columns]"
      ]
     },
     "execution_count": 344,
     "metadata": {},
     "output_type": "execute_result"
    }
   ],
   "source": [
    "labels = pd.read_csv(\"/home/vamsi/Projects/datasets/MIT_INTERVIEW_DATASET_2/Labels/turker_scores_full_interview.csv\")\n",
    "labels"
   ]
  },
  {
   "cell_type": "code",
   "execution_count": 345,
   "metadata": {},
   "outputs": [],
   "source": [
    "def get_label(participant):\n",
    "    return labels[labels['Participant'] == participant].iloc[-1]['RecommendHiring']"
   ]
  },
  {
   "cell_type": "code",
   "execution_count": 346,
   "metadata": {},
   "outputs": [],
   "source": [
    "VIDEO_ROOT = \"/home/vamsi/Projects/bmxi-test/test\""
   ]
  },
  {
   "cell_type": "code",
   "execution_count": 347,
   "metadata": {},
   "outputs": [],
   "source": [
    "from tqdm import tqdm\n",
    "\n",
    "def prepare_data():\n",
    "    df = pd.DataFrame(columns=[\"Video\", \"Label\"] + vidlabels + audlabels + lexlabels)\n",
    "\n",
    "    participants = os.listdir(VIDEO_ROOT)\n",
    "    allvideos = []\n",
    "    labels = []\n",
    "    \n",
    "    # iterate over all participants\n",
    "    for i in tqdm(range(len(participants))):\n",
    "        participant = participants[i]\n",
    "        label = get_label(participant.lower())\n",
    "        lexical_output = calc_score(os.path.join(VIDEO_ROOT, participant, \"transcript.txt\"))\n",
    "        \n",
    "        # iterate over sub videos\n",
    "        for i in range(5):\n",
    "            p = f\"{participant}_{i}\"\n",
    "            \n",
    "            facial_output = fer_video(os.path.join(VIDEO_ROOT, participant, f\"{p}.avi\"))\n",
    "            audio_output = analyze_audio_file(os.path.join(VIDEO_ROOT, participant, f\"{p}.wav\"))\n",
    "            \n",
    "            try:\n",
    "                vidoutput = torch.tensor(list(facial_output.values()) + list(audio_output.values()) + list(lexical_output.values()))\n",
    "                laboutput = torch.tensor([label])\n",
    "            except:\n",
    "                print(f\"Error in {p}\")\n",
    "                continue\n",
    "            \n",
    "            allvideos.append(vidoutput)\n",
    "            labels.append(laboutput)\n",
    "            \n",
    "    allvideos = torch.stack(allvideos)\n",
    "    labels = torch.stack(labels)\n",
    "    \n",
    "    return allvideos, labels"
   ]
  },
  {
   "cell_type": "code",
   "execution_count": 348,
   "metadata": {},
   "outputs": [
    {
     "name": "stderr",
     "output_type": "stream",
     "text": [
      "  9%|▉         | 4/45 [01:03<12:20, 18.06s/it]"
     ]
    },
    {
     "name": "stdout",
     "output_type": "stream",
     "text": [
      "Error in P6_1\n"
     ]
    },
    {
     "name": "stderr",
     "output_type": "stream",
     "text": [
      " 16%|█▌        | 7/45 [01:59<10:56, 17.27s/it]"
     ]
    },
    {
     "name": "stdout",
     "output_type": "stream",
     "text": [
      "Error in P17_4\n"
     ]
    },
    {
     "name": "stderr",
     "output_type": "stream",
     "text": [
      " 22%|██▏       | 10/45 [02:41<08:30, 14.58s/it]"
     ]
    },
    {
     "name": "stdout",
     "output_type": "stream",
     "text": [
      "Error in PP5_4\n"
     ]
    },
    {
     "name": "stderr",
     "output_type": "stream",
     "text": [
      " 27%|██▋       | 12/45 [03:04<07:11, 13.06s/it]"
     ]
    },
    {
     "name": "stdout",
     "output_type": "stream",
     "text": [
      "Error in PP7_0\n"
     ]
    },
    {
     "name": "stderr",
     "output_type": "stream",
     "text": [
      " 33%|███▎      | 15/45 [03:40<06:16, 12.54s/it]"
     ]
    },
    {
     "name": "stdout",
     "output_type": "stream",
     "text": [
      "Error in P30_0\n",
      "Error in P30_1\n",
      "Error in P30_2\n"
     ]
    },
    {
     "name": "stderr",
     "output_type": "stream",
     "text": [
      " 47%|████▋     | 21/45 [05:21<07:10, 17.95s/it][mpeg4 @ 0x3ba29040] illegal dc vlc\n",
      "[mpeg4 @ 0x3ba29040] Error at MB: 21\n",
      "[mpeg4 @ 0x3ba29040] illegal mb_num in video packet (1288 1200) \n",
      "[mpeg4 @ 0x3ba29040] illegal mb_num in video packet (1288 1200) \n",
      " 49%|████▉     | 22/45 [05:33<06:08, 16.02s/it]"
     ]
    },
    {
     "name": "stdout",
     "output_type": "stream",
     "text": [
      "Error in P29_0\n"
     ]
    },
    {
     "name": "stderr",
     "output_type": "stream",
     "text": [
      " 67%|██████▋   | 30/45 [07:48<04:15, 17.01s/it]"
     ]
    },
    {
     "name": "stdout",
     "output_type": "stream",
     "text": [
      "Error in P13_4\n"
     ]
    },
    {
     "name": "stderr",
     "output_type": "stream",
     "text": [
      " 71%|███████   | 32/45 [08:27<03:59, 18.44s/it]"
     ]
    },
    {
     "name": "stdout",
     "output_type": "stream",
     "text": [
      "Error in PP6_0\n",
      "Error in PP6_2\n",
      "Error in PP6_3\n"
     ]
    },
    {
     "name": "stderr",
     "output_type": "stream",
     "text": [
      " 73%|███████▎  | 33/45 [08:58<04:27, 22.27s/it]"
     ]
    },
    {
     "name": "stdout",
     "output_type": "stream",
     "text": [
      "Error in PP6_4\n",
      "Error in PP13_0\n",
      "Error in PP13_1\n",
      "Error in PP13_2\n",
      "Error in PP13_3\n"
     ]
    },
    {
     "name": "stderr",
     "output_type": "stream",
     "text": [
      " 76%|███████▌  | 34/45 [09:13<03:38, 19.89s/it]"
     ]
    },
    {
     "name": "stdout",
     "output_type": "stream",
     "text": [
      "Error in PP13_4\n"
     ]
    },
    {
     "name": "stderr",
     "output_type": "stream",
     "text": [
      " 91%|█████████ | 41/45 [11:10<01:11, 17.84s/it]"
     ]
    },
    {
     "name": "stdout",
     "output_type": "stream",
     "text": [
      "Error in P5_0\n"
     ]
    },
    {
     "name": "stderr",
     "output_type": "stream",
     "text": [
      "100%|██████████| 45/45 [12:32<00:00, 16.71s/it]\n"
     ]
    }
   ],
   "source": [
    "data, labels = prepare_data()"
   ]
  },
  {
   "cell_type": "code",
   "execution_count": 350,
   "metadata": {},
   "outputs": [],
   "source": [
    "torch.save(data, \"data.pt\")\n",
    "torch.save(labels, \"labels.pt\")"
   ]
  },
  {
   "cell_type": "code",
   "execution_count": 43,
   "metadata": {},
   "outputs": [],
   "source": [
    "# load data\n",
    "data = torch.load(\"data.pt\")\n",
    "labels = torch.load(\"labels.pt\")"
   ]
  },
  {
   "cell_type": "code",
   "execution_count": 351,
   "metadata": {},
   "outputs": [
    {
     "data": {
      "text/plain": [
       "(torch.Size([206, 25]), torch.Size([206, 1]))"
      ]
     },
     "execution_count": 351,
     "metadata": {},
     "output_type": "execute_result"
    }
   ],
   "source": [
    "data.shape, labels.shape"
   ]
  },
  {
   "cell_type": "code",
   "execution_count": 352,
   "metadata": {},
   "outputs": [],
   "source": [
    "data = nn.functional.normalize(data, p=2, dim=1)"
   ]
  },
  {
   "cell_type": "code",
   "execution_count": 353,
   "metadata": {},
   "outputs": [],
   "source": [
    "class DaModel(nn.Module):\n",
    "    def __init__(self, *args, **kwargs) -> None:\n",
    "        super().__init__(*args, **kwargs)\n",
    "        self.model = nn.Sequential(\n",
    "            nn.Linear(25, 1024),\n",
    "            nn.ReLU(),\n",
    "            nn.Linear(1024, 32),\n",
    "            nn.ReLU(),\n",
    "            nn.Linear(32, 1)\n",
    "        )\n",
    "        \n",
    "    def forward(self, x):\n",
    "        # return self.model(nn.functional.normalize(x, dim=-2))\n",
    "        return self.model(x)"
   ]
  },
  {
   "cell_type": "code",
   "execution_count": 357,
   "metadata": {},
   "outputs": [
    {
     "data": {
      "text/plain": [
       "DaModel(\n",
       "  (model): Sequential(\n",
       "    (0): Linear(in_features=25, out_features=1024, bias=True)\n",
       "    (1): ReLU()\n",
       "    (2): Linear(in_features=1024, out_features=32, bias=True)\n",
       "    (3): ReLU()\n",
       "    (4): Linear(in_features=32, out_features=1, bias=True)\n",
       "  )\n",
       ")"
      ]
     },
     "execution_count": 357,
     "metadata": {},
     "output_type": "execute_result"
    }
   ],
   "source": [
    "model0 = DaModel().to(device)\n",
    "model0"
   ]
  },
  {
   "cell_type": "code",
   "execution_count": 358,
   "metadata": {},
   "outputs": [],
   "source": [
    "loss_fn = nn.MSELoss()\n",
    "optimizer = torch.optim.Adam(model0.parameters(), lr=0.00001)"
   ]
  },
  {
   "cell_type": "code",
   "execution_count": 359,
   "metadata": {},
   "outputs": [
    {
     "data": {
      "text/plain": [
       "(torch.Size([164, 25]),\n",
       " torch.Size([164, 1]),\n",
       " torch.Size([42, 25]),\n",
       " torch.Size([42, 1]))"
      ]
     },
     "execution_count": 359,
     "metadata": {},
     "output_type": "execute_result"
    }
   ],
   "source": [
    "from sklearn.model_selection import train_test_split\n",
    "\n",
    "data = data.to(torch.float32)\n",
    "labels = labels.to(torch.float32)\n",
    "\n",
    "X_train, X_test, y_train, y_test = train_test_split(data, labels, test_size=0.2, random_state=42)\n",
    "\n",
    "X_train.shape, y_train.shape, X_test.shape, y_test.shape"
   ]
  },
  {
   "cell_type": "code",
   "execution_count": 360,
   "metadata": {},
   "outputs": [],
   "source": [
    "# move to device\n",
    "\n",
    "X_train = X_train.to(device)\n",
    "y_train = y_train.to(device)\n",
    "X_test = X_test.to(device)\n",
    "y_test = y_test.to(device)"
   ]
  },
  {
   "cell_type": "code",
   "execution_count": 361,
   "metadata": {},
   "outputs": [],
   "source": [
    "# from tqdm import tqdm\n",
    "\n",
    "# EPOCHS = 10000\n",
    "\n",
    "# train_losses = []\n",
    "# test_losses = []\n",
    "\n",
    "# for epoch in tqdm(range(EPOCHS)):\n",
    "#     model0.train()\n",
    "    \n",
    "#     y_pred = model0(X_train)\n",
    "#     loss = loss_fn(y_pred, y_train)\n",
    "    \n",
    "#     optimizer.zero_grad()\n",
    "#     loss.backward()\n",
    "#     optimizer.step()\n",
    "    \n",
    "#     train_losses.append(loss.item())\n",
    "    \n",
    "#     model0.eval()\n",
    "#     with torch.inference_mode():\n",
    "#         test_pred = model0(X_test)\n",
    "        \n",
    "#         test_loss = loss_fn(test_pred, y_test)\n",
    "        \n",
    "#         test_losses.append(test_loss.item())"
   ]
  },
  {
   "cell_type": "code",
   "execution_count": 362,
   "metadata": {},
   "outputs": [],
   "source": [
    "# from tqdm import tqdm\n",
    "\n",
    "# EPOCHS = 40\n",
    "\n",
    "# train_losses = []\n",
    "# test_losses = []\n",
    "\n",
    "# for epoch in tqdm(range(EPOCHS)):\n",
    "#     model0.train()\n",
    "    \n",
    "#     epoch_train_losses = []\n",
    "    \n",
    "#     for i in range(len(X_train)):\n",
    "#         y_pred = model0(X_train[i])\n",
    "#         loss = loss_fn(y_pred, y_train[i])\n",
    "        \n",
    "#         epoch_train_losses.append(loss.item())\n",
    "        \n",
    "#         optimizer.zero_grad()\n",
    "#         loss.backward()\n",
    "#         optimizer.step()\n",
    "        \n",
    "#     train_losses.append(sum(epoch_train_losses) / len(epoch_train_losses))\n",
    "    \n",
    "#     model0.eval()\n",
    "#     with torch.inference_mode():\n",
    "#         test_pred = model0(X_test)\n",
    "        \n",
    "#         test_loss = loss_fn(test_pred, y_test)\n",
    "        \n",
    "#         test_losses.append(test_loss.item())"
   ]
  },
  {
   "cell_type": "code",
   "execution_count": 363,
   "metadata": {},
   "outputs": [
    {
     "name": "stderr",
     "output_type": "stream",
     "text": [
      "100%|██████████| 40/40 [00:09<00:00,  4.40it/s]\n"
     ]
    }
   ],
   "source": [
    "from tqdm import tqdm\n",
    "\n",
    "data = data.to(torch.float32).to(device)\n",
    "labels = labels.to(torch.float32).to(device)\n",
    "\n",
    "EPOCHS = 40\n",
    "\n",
    "train_losses = []\n",
    "test_losses = []\n",
    "\n",
    "for epoch in tqdm(range(EPOCHS)):\n",
    "    model0.train()\n",
    "    \n",
    "    epoch_train_losses = []\n",
    "    \n",
    "    for i in range(len(data)):\n",
    "        y_pred = model0(data[i])\n",
    "        loss = loss_fn(y_pred, labels[i])\n",
    "        \n",
    "        epoch_train_losses.append(loss.item())\n",
    "        \n",
    "        optimizer.zero_grad()\n",
    "        loss.backward()\n",
    "        optimizer.step()\n",
    "        \n",
    "    train_losses.append(sum(epoch_train_losses) / len(epoch_train_losses))"
   ]
  },
  {
   "cell_type": "code",
   "execution_count": 364,
   "metadata": {},
   "outputs": [
    {
     "data": {
      "image/png": "[encoded data removed]",
      "text/plain": [
       "<Figure size 640x480 with 1 Axes>"
      ]
     },
     "metadata": {},
     "output_type": "display_data"
    }
   ],
   "source": [
    "plt.plot(range(EPOCHS), train_losses, label=\"Train Loss\")\n",
    "# plt.plot(range(EPOCHS), test_losses, label=\"Test Loss\")\n",
    "plt.title(\"Training and test loss curves\")\n",
    "plt.ylabel(\"MSE Loss\")\n",
    "plt.xlabel(\"Epochs\")\n",
    "plt.legend()\n",
    "plt.show()"
   ]
  },
  {
   "cell_type": "code",
   "execution_count": 366,
   "metadata": {},
   "outputs": [
    {
     "data": {
      "text/plain": [
       "0.4783217347978138"
      ]
     },
     "execution_count": 366,
     "metadata": {},
     "output_type": "execute_result"
    }
   ],
   "source": [
    "train_losses[-1]"
   ]
  },
  {
   "cell_type": "code",
   "execution_count": null,
   "metadata": {},
   "outputs": [],
   "source": [
    "# save model state dict\n",
    "torch.save(model0.state_dict(), \"model.pt\")"
   ]
  },
  {
   "cell_type": "code",
   "execution_count": null,
   "metadata": {},
   "outputs": [],
   "source": []
  },
  {
   "cell_type": "code",
   "execution_count": null,
   "metadata": {},
   "outputs": [],
   "source": []
  },
  {
   "cell_type": "code",
   "execution_count": null,
   "metadata": {},
   "outputs": [],
   "source": []
  },
  {
   "cell_type": "code",
   "execution_count": null,
   "metadata": {},
   "outputs": [],
   "source": []
  },
  {
   "cell_type": "code",
   "execution_count": null,
   "metadata": {},
   "outputs": [],
   "source": []
  },
  {
   "cell_type": "code",
   "execution_count": null,
   "metadata": {},
   "outputs": [],
   "source": []
  },
  {
   "cell_type": "code",
   "execution_count": null,
   "metadata": {},
   "outputs": [],
   "source": []
  },
  {
   "cell_type": "code",
   "execution_count": null,
   "metadata": {},
   "outputs": [],
   "source": []
  },
  {
   "cell_type": "code",
   "execution_count": null,
   "metadata": {},
   "outputs": [],
   "source": []
  },
  {
   "cell_type": "code",
   "execution_count": null,
   "metadata": {},
   "outputs": [],
   "source": []
  },
  {
   "cell_type": "code",
   "execution_count": null,
   "metadata": {},
   "outputs": [],
   "source": []
  },
  {
   "cell_type": "code",
   "execution_count": null,
   "metadata": {},
   "outputs": [],
   "source": []
  }
 ],
 "metadata": {
  "kernelspec": {
   "display_name": "fer",
   "language": "python",
   "name": "python3"
  },
  "language_info": {
   "codemirror_mode": {
    "name": "ipython",
    "version": 3
   },
   "file_extension": ".py",
   "mimetype": "text/x-python",
   "name": "python",
   "nbconvert_exporter": "python",
   "pygments_lexer": "ipython3",
   "version": "3.11.7"
  }
 },
 "nbformat": 4,
 "nbformat_minor": 2
}
